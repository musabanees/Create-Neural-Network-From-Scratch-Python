{
 "cells": [
  {
   "cell_type": "code",
   "execution_count": 43,
   "metadata": {},
   "outputs": [],
   "source": [
    "from math import exp\n",
    "from random import seed\n",
    "from random import random"
   ]
  },
  {
   "cell_type": "code",
   "execution_count": 44,
   "metadata": {},
   "outputs": [],
   "source": [
    "dataset = [[0,0,0,1],\n",
    "\t[1,0,0,1],\n",
    "\t[0,1,0,0],\n",
    "\t[0,0,1,0],\n",
    "\t[1,1,0,0],\n",
    "\t[1,0,1,1],\n",
    "\t[0,1,1,0],\n",
    "\t[1,1,1,1]]"
   ]
  },
  {
   "cell_type": "markdown",
   "metadata": {},
   "source": [
    "# Initialize a network"
   ]
  },
  {
   "cell_type": "code",
   "execution_count": 45,
   "metadata": {},
   "outputs": [],
   "source": [
    "def initialize_network(n_inputs, n_hidden, n_outputs):\n",
    "\tnetwork = list()\n",
    "\thidden_layer = [{'weights':[random() for i in range(n_inputs + 1)]} for i in range(n_hidden)]\n",
    "\tnetwork.append(hidden_layer)\n",
    "\toutput_layer = [{'weights':[random() for i in range(n_hidden + 1)]} for i in range(n_outputs)]\n",
    "\tnetwork.append(output_layer)\n",
    "\treturn network"
   ]
  },
  {
   "cell_type": "markdown",
   "metadata": {},
   "source": [
    "# Forward Propagation"
   ]
  },
  {
   "cell_type": "code",
   "execution_count": 46,
   "metadata": {},
   "outputs": [],
   "source": [
    "\n",
    "# Calculate neuron activation for an input\n",
    "def activate(weights, inputs):\n",
    "\tactivation = weights[-1]\n",
    "\tfor i in range(len(weights)-1):\n",
    "\t\tactivation += weights[i] * inputs[i]\n",
    "\treturn activation\n",
    "\n",
    "# Transfer neuron activation\n",
    "def transfer(activation):\n",
    "\treturn 1.0 / (1.0 + exp(-activation))\n",
    "\n",
    "# Forward propagate input to a network output\n",
    "def forward_propagate(network, row):\n",
    "\tinputs = row\n",
    "\tfor layer in network:\n",
    "\t\tnew_inputs = []\n",
    "\t\tfor neuron in layer:\n",
    "\t\t\tactivation = activate(neuron['weights'], inputs)\n",
    "\t\t\tneuron['output'] = transfer(activation)\n",
    "\t\t\tnew_inputs.append(neuron['output'])\n",
    "\t\tinputs = new_inputs\n",
    "\treturn inputs"
   ]
  },
  {
   "cell_type": "markdown",
   "metadata": {},
   "source": [
    "# Backpropagation"
   ]
  },
  {
   "cell_type": "code",
   "execution_count": 47,
   "metadata": {},
   "outputs": [],
   "source": [
    "\n",
    "# Calculate the derivative of an neuron output\n",
    "def transfer_derivative(output):\n",
    "\treturn output * (1.0 - output)\n",
    "\n",
    "# Backpropagate error and store in neurons\n",
    "def backward_propagate_error(network, expected):\n",
    "\tfor i in reversed(range(len(network))): # i will be 1 and 0\n",
    "\t\tlayer = network[i]\n",
    "\t\terrors = list()\n",
    "\t\tif i != len(network)-1: # Outer layer\n",
    "\t\t\tfor j in range(len(layer)):\n",
    "\t\t\t\terror = 0.0\n",
    "\t\t\t\tfor neuron in network[i + 1]:\n",
    "\t\t\t\t\terror += (neuron['weights'][j] * neuron['delta']) #Weight*delta\n",
    "\t\t\t\terrors.append(error)\n",
    "\t\telse: # Inner Layer\n",
    "\t\t\tfor j in range(len(layer)):\n",
    "\t\t\t\tneuron = layer[j]\n",
    "\t\t\t\terrors.append(expected[j] - neuron['output'])\n",
    "\t\tfor j in range(len(layer)):\n",
    "\t\t\tneuron = layer[j]\n",
    "\t\t\tneuron['delta'] = errors[j] * transfer_derivative(neuron['output'])"
   ]
  },
  {
   "cell_type": "markdown",
   "metadata": {},
   "source": [
    "# Update network weights with error"
   ]
  },
  {
   "cell_type": "code",
   "execution_count": 48,
   "metadata": {},
   "outputs": [],
   "source": [
    "def update_weights(network, row, l_rate):\n",
    "\tfor i in range(len(network)):\n",
    "\t\tinputs = row[:-1]\n",
    "\t\tif i != 0:\n",
    "\t\t\tinputs = [neuron['output'] for neuron in network[i - 1]]\n",
    "\t\tfor neuron in network[i]:\n",
    "\t\t\tfor j in range(len(inputs)):\n",
    "\t\t\t\tneuron['weights'][j] += l_rate * neuron['delta'] * inputs[j]\n",
    "\t\t\tneuron['weights'][-1] += l_rate * neuron['delta']"
   ]
  },
  {
   "cell_type": "markdown",
   "metadata": {},
   "source": [
    "# Train a network"
   ]
  },
  {
   "cell_type": "code",
   "execution_count": 49,
   "metadata": {},
   "outputs": [],
   "source": [
    "def train_network(network, train, l_rate, n_epoch, n_outputs):\n",
    "\tfor epoch in range(n_epoch):\n",
    "\t\tsum_error = 0\n",
    "\t\tfor row in train:\n",
    "\t\t\toutputs = forward_propagate(network, row)\n",
    "\t\t\texpected = [0 for i in range(n_outputs)]\n",
    "\t\t\texpected[row[-1]] = 1\n",
    "\t\t\tsum_error += sum([(expected[i]-outputs[i])**2 for i in range(len(expected))])\n",
    "\t\t\tbackward_propagate_error(network, expected)\n",
    "\t\t\tupdate_weights(network, row, l_rate)\n",
    "\t\tprint('>epoch=%d, lrate=%.3f, error=%.3f' % (epoch, l_rate, sum_error))"
   ]
  },
  {
   "cell_type": "code",
   "execution_count": 50,
   "metadata": {},
   "outputs": [
    {
     "name": "stdout",
     "output_type": "stream",
     "text": [
      ">epoch=0, lrate=0.500, error=5.820\n",
      ">epoch=1, lrate=0.500, error=5.007\n",
      ">epoch=2, lrate=0.500, error=4.602\n",
      ">epoch=3, lrate=0.500, error=4.493\n",
      ">epoch=4, lrate=0.500, error=4.462\n",
      ">epoch=5, lrate=0.500, error=4.444\n",
      ">epoch=6, lrate=0.500, error=4.427\n",
      ">epoch=7, lrate=0.500, error=4.410\n",
      ">epoch=8, lrate=0.500, error=4.391\n",
      ">epoch=9, lrate=0.500, error=4.371\n",
      ">epoch=10, lrate=0.500, error=4.350\n",
      ">epoch=11, lrate=0.500, error=4.328\n",
      ">epoch=12, lrate=0.500, error=4.303\n",
      ">epoch=13, lrate=0.500, error=4.277\n",
      ">epoch=14, lrate=0.500, error=4.249\n",
      ">epoch=15, lrate=0.500, error=4.219\n",
      ">epoch=16, lrate=0.500, error=4.186\n",
      ">epoch=17, lrate=0.500, error=4.151\n",
      ">epoch=18, lrate=0.500, error=4.113\n",
      ">epoch=19, lrate=0.500, error=4.072\n"
     ]
    }
   ],
   "source": [
    "\n",
    "seed(1)\n",
    "dataset = [[0,0,0,1],\n",
    "\t[1,0,0,1],\n",
    "\t[0,1,0,0],\n",
    "\t[0,0,1,0],\n",
    "\t[1,1,0,0],\n",
    "\t[1,0,1,1],\n",
    "\t[0,1,1,0],\n",
    "\t[1,1,1,1]]\n",
    "n_inputs = len(dataset[0]) - 1\n",
    "n_outputs = len(set([row[-1] for row in dataset]))\n",
    "network = initialize_network(n_inputs, 6, n_outputs)\n",
    "train_network(network, dataset, 0.5,20, n_outputs)"
   ]
  },
  {
   "cell_type": "code",
   "execution_count": 51,
   "metadata": {},
   "outputs": [
    {
     "data": {
      "text/plain": [
       "[[{'weights': [-0.06572871696254101,\n",
       "    0.9481867367608762,\n",
       "    0.6819186931045124,\n",
       "    0.14310264296824426],\n",
       "   'output': 0.8502549000865663,\n",
       "   'delta': -0.01456115821609261},\n",
       "  {'weights': [0.39830703445221655,\n",
       "    0.4952805942865089,\n",
       "    0.6141885793027272,\n",
       "    0.7127557893465775],\n",
       "   'output': 0.9028188677077985,\n",
       "   'delta': -0.004206683016645363},\n",
       "  {'weights': [0.3110774108539141,\n",
       "    -0.34203039391386575,\n",
       "    0.786570669967681,\n",
       "    0.3010540455236241],\n",
       "   'output': 0.733883557034076,\n",
       "   'delta': 0.021127663275201786},\n",
       "  {'weights': [0.8676124814132895,\n",
       "    -0.27178642519357216,\n",
       "    0.343263353956751,\n",
       "    0.539329768870973],\n",
       "   'output': 0.8091259901023962,\n",
       "   'delta': 0.01703905743021354},\n",
       "  {'weights': [-0.21010374795606923,\n",
       "    1.2735614630239294,\n",
       "    0.8013832022349596,\n",
       "    -0.1245161565559779],\n",
       "   'output': 0.8570607059368422,\n",
       "   'delta': -0.025381983827463653},\n",
       "  {'weights': [0.014291834611517416,\n",
       "    0.39988862948795345,\n",
       "    0.8513679511689018,\n",
       "    0.23331898711224003],\n",
       "   'output': 0.818052350061026,\n",
       "   'delta': -0.0021699609003982667}],\n",
       " [{'weights': [0.24715668584443334,\n",
       "    0.07355537967471101,\n",
       "    -0.4792864782718952,\n",
       "    -0.5145350716657286,\n",
       "    0.5792872653930778,\n",
       "    0.3499700105142549,\n",
       "    -0.20847742904532526],\n",
       "   'output': 0.6120463970034961,\n",
       "   'delta': -0.14532772697470492},\n",
       "  {'weights': [-0.41703460594161207,\n",
       "    -0.12554447222967724,\n",
       "    0.37216108973126205,\n",
       "    0.36258187780854845,\n",
       "    -0.7230805790439755,\n",
       "    0.3689130048900209,\n",
       "    0.14498957809908303],\n",
       "   'output': 0.390086153645983,\n",
       "   'delta': 0.14511005970691696}]]"
      ]
     },
     "execution_count": 51,
     "metadata": {},
     "output_type": "execute_result"
    }
   ],
   "source": [
    "network"
   ]
  },
  {
   "cell_type": "code",
   "execution_count": 52,
   "metadata": {},
   "outputs": [
    {
     "data": {
      "text/plain": [
       "2"
      ]
     },
     "execution_count": 52,
     "metadata": {},
     "output_type": "execute_result"
    }
   ],
   "source": [
    "\n",
    "len(network)"
   ]
  },
  {
   "cell_type": "code",
   "execution_count": null,
   "metadata": {},
   "outputs": [],
   "source": []
  },
  {
   "cell_type": "code",
   "execution_count": null,
   "metadata": {},
   "outputs": [],
   "source": []
  },
  {
   "cell_type": "code",
   "execution_count": null,
   "metadata": {},
   "outputs": [],
   "source": []
  }
 ],
 "metadata": {
  "kernelspec": {
   "display_name": "Python 3",
   "language": "python",
   "name": "python3"
  },
  "language_info": {
   "codemirror_mode": {
    "name": "ipython",
    "version": 3
   },
   "file_extension": ".py",
   "mimetype": "text/x-python",
   "name": "python",
   "nbconvert_exporter": "python",
   "pygments_lexer": "ipython3",
   "version": "3.8.5"
  }
 },
 "nbformat": 4,
 "nbformat_minor": 4
}
